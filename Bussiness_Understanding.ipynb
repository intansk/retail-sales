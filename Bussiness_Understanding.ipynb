{
  "nbformat": 4,
  "nbformat_minor": 0,
  "metadata": {
    "colab": {
      "provenance": [],
      "collapsed_sections": [
        "kSjhcPX0aBUX"
      ],
      "authorship_tag": "ABX9TyPYKxCBSvKdUprgjSp6ro8L",
      "include_colab_link": true
    },
    "kernelspec": {
      "name": "python3",
      "display_name": "Python 3"
    },
    "language_info": {
      "name": "python"
    }
  },
  "cells": [
    {
      "cell_type": "markdown",
      "metadata": {
        "id": "view-in-github",
        "colab_type": "text"
      },
      "source": [
        "<a href=\"https://colab.research.google.com/github/intansk/retail-sales/blob/main/Bussiness_Understanding.ipynb\" target=\"_parent\"><img src=\"https://colab.research.google.com/assets/colab-badge.svg\" alt=\"Open In Colab\"/></a>"
      ]
    },
    {
      "cell_type": "markdown",
      "source": [
        "# Prediksi Tren Penjualan Produk Berdasarkan Pola Pembelian Pelanggan"
      ],
      "metadata": {
        "id": "kSjhcPX0aBUX"
      }
    },
    {
      "cell_type": "markdown",
      "source": [
        "## Bussiness Understanding\n",
        "\n",
        "**Bussiness Objective**\n",
        "\n",
        "Tujuan bisnis dari dataset ini adalah untuk menganalisis pola pembelian yang dilakukan oleh pelanggan sehingga dapat mengetahui tren penjualan yang terjadi guna memahami preferensi pelanggan dan mengembangkan stategi yang lebih baik.<br> <br>\n",
        "\n",
        "**Assess Situastion**\n",
        "\n",
        "Situasi bisnis yang mendasari analisis ini yaitu persaingan yang semakin ketat sehingga dibutuhkan analisis tren penjualan agar dapat membuat strategi bisnis yang baik.<br> <br>\n",
        "\n",
        "**Data Mining Goals**\n",
        "\n",
        "Tujuan dari data mining pada dataset ini adalah untuk memprediksi  tren penjualan yang terjadi agar dapat bersaing dengan kompetitor lain berdasarkan analisis pola pembelian pelanggan.<br> <br>\n",
        "\n",
        "**Project Plan**\n",
        "\n",
        "Rencana proyek untuk menganalisis dataset ini dimulai dengan mengumpulkan data dari sumber yang tersedia. Kemudian, data-data tersebut dijelaskan dan didentifikasi faktor-faktor yang dapat menjadi pola pembelian pelanggan. Selanjutnya, mengetahui hubungan antar faktor-faktor tersebut dan diidentifkasi agar dapat diatasi pada tahapan selanjutnya."
      ],
      "metadata": {
        "id": "5RY2_H73aY3-"
      }
    }
  ]
}